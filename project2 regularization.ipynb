{
 "cells": [
  {
   "cell_type": "code",
   "execution_count": 1,
   "metadata": {},
   "outputs": [
    {
     "data": {
      "text/html": [
       "<div>\n",
       "<style>\n",
       "    .dataframe thead tr:only-child th {\n",
       "        text-align: right;\n",
       "    }\n",
       "\n",
       "    .dataframe thead th {\n",
       "        text-align: left;\n",
       "    }\n",
       "\n",
       "    .dataframe tbody tr th {\n",
       "        vertical-align: top;\n",
       "    }\n",
       "</style>\n",
       "<table border=\"1\" class=\"dataframe\">\n",
       "  <thead>\n",
       "    <tr style=\"text-align: right;\">\n",
       "      <th></th>\n",
       "      <th>date</th>\n",
       "      <th>price</th>\n",
       "      <th>bedrooms</th>\n",
       "      <th>bathrooms</th>\n",
       "      <th>sqft_living</th>\n",
       "      <th>sqft_lot</th>\n",
       "      <th>floors</th>\n",
       "      <th>condition</th>\n",
       "      <th>sqft_above</th>\n",
       "      <th>sqft_basement</th>\n",
       "      <th>yr_built</th>\n",
       "      <th>yr</th>\n",
       "    </tr>\n",
       "  </thead>\n",
       "  <tbody>\n",
       "    <tr>\n",
       "      <th>0</th>\n",
       "      <td>2014-05-02</td>\n",
       "      <td>313000</td>\n",
       "      <td>3</td>\n",
       "      <td>1.50</td>\n",
       "      <td>1340</td>\n",
       "      <td>7912</td>\n",
       "      <td>1.5</td>\n",
       "      <td>3</td>\n",
       "      <td>1340</td>\n",
       "      <td>0</td>\n",
       "      <td>1955</td>\n",
       "      <td>66</td>\n",
       "    </tr>\n",
       "    <tr>\n",
       "      <th>1</th>\n",
       "      <td>2014-05-02</td>\n",
       "      <td>2384000</td>\n",
       "      <td>5</td>\n",
       "      <td>2.50</td>\n",
       "      <td>3650</td>\n",
       "      <td>9050</td>\n",
       "      <td>2.0</td>\n",
       "      <td>5</td>\n",
       "      <td>3370</td>\n",
       "      <td>280</td>\n",
       "      <td>1921</td>\n",
       "      <td>100</td>\n",
       "    </tr>\n",
       "    <tr>\n",
       "      <th>2</th>\n",
       "      <td>2014-05-02</td>\n",
       "      <td>342000</td>\n",
       "      <td>3</td>\n",
       "      <td>2.00</td>\n",
       "      <td>1930</td>\n",
       "      <td>11947</td>\n",
       "      <td>1.0</td>\n",
       "      <td>4</td>\n",
       "      <td>1930</td>\n",
       "      <td>0</td>\n",
       "      <td>1966</td>\n",
       "      <td>55</td>\n",
       "    </tr>\n",
       "    <tr>\n",
       "      <th>3</th>\n",
       "      <td>2014-05-02</td>\n",
       "      <td>420000</td>\n",
       "      <td>3</td>\n",
       "      <td>2.25</td>\n",
       "      <td>2000</td>\n",
       "      <td>8030</td>\n",
       "      <td>1.0</td>\n",
       "      <td>4</td>\n",
       "      <td>1000</td>\n",
       "      <td>1000</td>\n",
       "      <td>1963</td>\n",
       "      <td>58</td>\n",
       "    </tr>\n",
       "    <tr>\n",
       "      <th>4</th>\n",
       "      <td>2014-05-02</td>\n",
       "      <td>550000</td>\n",
       "      <td>4</td>\n",
       "      <td>2.50</td>\n",
       "      <td>1940</td>\n",
       "      <td>10500</td>\n",
       "      <td>1.0</td>\n",
       "      <td>4</td>\n",
       "      <td>1140</td>\n",
       "      <td>800</td>\n",
       "      <td>1976</td>\n",
       "      <td>45</td>\n",
       "    </tr>\n",
       "  </tbody>\n",
       "</table>\n",
       "</div>"
      ],
      "text/plain": [
       "        date    price  bedrooms  bathrooms  sqft_living  sqft_lot  floors  \\\n",
       "0 2014-05-02   313000         3       1.50         1340      7912     1.5   \n",
       "1 2014-05-02  2384000         5       2.50         3650      9050     2.0   \n",
       "2 2014-05-02   342000         3       2.00         1930     11947     1.0   \n",
       "3 2014-05-02   420000         3       2.25         2000      8030     1.0   \n",
       "4 2014-05-02   550000         4       2.50         1940     10500     1.0   \n",
       "\n",
       "   condition  sqft_above  sqft_basement  yr_built   yr  \n",
       "0          3        1340              0      1955   66  \n",
       "1          5        3370            280      1921  100  \n",
       "2          4        1930              0      1966   55  \n",
       "3          4        1000           1000      1963   58  \n",
       "4          4        1140            800      1976   45  "
      ]
     },
     "execution_count": 1,
     "metadata": {},
     "output_type": "execute_result"
    }
   ],
   "source": [
    "import numpy as np \n",
    "import pandas as pd\n",
    "import warnings\n",
    "warnings.simplefilter(\"ignore\")\n",
    "import numpy as np\n",
    "import pandas as pd\n",
    "import seaborn as sns\n",
    "import matplotlib.pyplot as plt\n",
    "plt.style.use('ggplot')\n",
    "%matplotlib inline\n",
    "df=pd.read_excel(\"project2.xlsx\")\n",
    "df.head()"
   ]
  },
  {
   "cell_type": "code",
   "execution_count": 2,
   "metadata": {
    "collapsed": true
   },
   "outputs": [],
   "source": [
    "df['price'].fillna('0',inplace=True)\n",
    "y = df.price\n",
    "X = df.drop(['price','date'], axis=1)"
   ]
  },
  {
   "cell_type": "code",
   "execution_count": 3,
   "metadata": {},
   "outputs": [
    {
     "data": {
      "text/html": [
       "<div>\n",
       "<style>\n",
       "    .dataframe thead tr:only-child th {\n",
       "        text-align: right;\n",
       "    }\n",
       "\n",
       "    .dataframe thead th {\n",
       "        text-align: left;\n",
       "    }\n",
       "\n",
       "    .dataframe tbody tr th {\n",
       "        vertical-align: top;\n",
       "    }\n",
       "</style>\n",
       "<table border=\"1\" class=\"dataframe\">\n",
       "  <thead>\n",
       "    <tr style=\"text-align: right;\">\n",
       "      <th></th>\n",
       "      <th>bedrooms</th>\n",
       "      <th>bathrooms</th>\n",
       "      <th>sqft_living</th>\n",
       "      <th>sqft_lot</th>\n",
       "      <th>floors</th>\n",
       "      <th>condition</th>\n",
       "      <th>sqft_above</th>\n",
       "      <th>sqft_basement</th>\n",
       "      <th>yr_built</th>\n",
       "      <th>yr</th>\n",
       "    </tr>\n",
       "  </thead>\n",
       "  <tbody>\n",
       "    <tr>\n",
       "      <th>0</th>\n",
       "      <td>3</td>\n",
       "      <td>1.50</td>\n",
       "      <td>1340</td>\n",
       "      <td>7912</td>\n",
       "      <td>1.5</td>\n",
       "      <td>3</td>\n",
       "      <td>1340</td>\n",
       "      <td>0</td>\n",
       "      <td>1955</td>\n",
       "      <td>66</td>\n",
       "    </tr>\n",
       "    <tr>\n",
       "      <th>1</th>\n",
       "      <td>5</td>\n",
       "      <td>2.50</td>\n",
       "      <td>3650</td>\n",
       "      <td>9050</td>\n",
       "      <td>2.0</td>\n",
       "      <td>5</td>\n",
       "      <td>3370</td>\n",
       "      <td>280</td>\n",
       "      <td>1921</td>\n",
       "      <td>100</td>\n",
       "    </tr>\n",
       "    <tr>\n",
       "      <th>2</th>\n",
       "      <td>3</td>\n",
       "      <td>2.00</td>\n",
       "      <td>1930</td>\n",
       "      <td>11947</td>\n",
       "      <td>1.0</td>\n",
       "      <td>4</td>\n",
       "      <td>1930</td>\n",
       "      <td>0</td>\n",
       "      <td>1966</td>\n",
       "      <td>55</td>\n",
       "    </tr>\n",
       "    <tr>\n",
       "      <th>3</th>\n",
       "      <td>3</td>\n",
       "      <td>2.25</td>\n",
       "      <td>2000</td>\n",
       "      <td>8030</td>\n",
       "      <td>1.0</td>\n",
       "      <td>4</td>\n",
       "      <td>1000</td>\n",
       "      <td>1000</td>\n",
       "      <td>1963</td>\n",
       "      <td>58</td>\n",
       "    </tr>\n",
       "    <tr>\n",
       "      <th>4</th>\n",
       "      <td>4</td>\n",
       "      <td>2.50</td>\n",
       "      <td>1940</td>\n",
       "      <td>10500</td>\n",
       "      <td>1.0</td>\n",
       "      <td>4</td>\n",
       "      <td>1140</td>\n",
       "      <td>800</td>\n",
       "      <td>1976</td>\n",
       "      <td>45</td>\n",
       "    </tr>\n",
       "  </tbody>\n",
       "</table>\n",
       "</div>"
      ],
      "text/plain": [
       "   bedrooms  bathrooms  sqft_living  sqft_lot  floors  condition  sqft_above  \\\n",
       "0         3       1.50         1340      7912     1.5          3        1340   \n",
       "1         5       2.50         3650      9050     2.0          5        3370   \n",
       "2         3       2.00         1930     11947     1.0          4        1930   \n",
       "3         3       2.25         2000      8030     1.0          4        1000   \n",
       "4         4       2.50         1940     10500     1.0          4        1140   \n",
       "\n",
       "   sqft_basement  yr_built   yr  \n",
       "0              0      1955   66  \n",
       "1            280      1921  100  \n",
       "2              0      1966   55  \n",
       "3           1000      1963   58  \n",
       "4            800      1976   45  "
      ]
     },
     "execution_count": 3,
     "metadata": {},
     "output_type": "execute_result"
    }
   ],
   "source": [
    "# Splitting the dataset into the Training set and Test set 70% and 30%\n",
    "from sklearn.model_selection import train_test_split\n",
    "X_train,X_test,y_train,y_test = train_test_split(X,y,test_size=0.3,random_state=1)\n",
    "X.head()"
   ]
  },
  {
   "cell_type": "code",
   "execution_count": 4,
   "metadata": {},
   "outputs": [
    {
     "data": {
      "image/png": "[encoded data removed]",
      "text/plain": [
       "<matplotlib.figure.Figure at 0x29bd64381d0>"
      ]
     },
     "metadata": {},
     "output_type": "display_data"
    }
   ],
   "source": [
    "sns.set_style(\"white\")\n",
    "sns.set_color_codes(palette='deep')\n",
    "f, ax = plt.subplots(figsize=(8, 7))\n",
    "sns.distplot(y, color=\"b\");\n",
    "ax.xaxis.grid(False)\n",
    "ax.set(ylabel=\"Frequency\")\n",
    "ax.set(xlabel=\"Price\")\n",
    "ax.set(title=\"House Price distribution\")\n",
    "sns.despine(trim=True, left=True)\n",
    "plt.show()"
   ]
  },
  {
   "cell_type": "code",
   "execution_count": 5,
   "metadata": {},
   "outputs": [
    {
     "data": {
      "text/plain": [
       "Text(0,0.5,'weights')"
      ]
     },
     "execution_count": 5,
     "metadata": {},
     "output_type": "execute_result"
    },
    {
     "data": {
      "image/png": "[encoded data removed]",
      "text/plain": [
       "<matplotlib.figure.Figure at 0x29bd6430c50>"
      ]
     },
     "metadata": {},
     "output_type": "display_data"
    }
   ],
   "source": [
    "#lasso\n",
    "from sklearn.preprocessing import scale\n",
    "from sklearn.linear_model import Lasso, LassoCV, Ridge, RidgeCV\n",
    "from sklearn.metrics import accuracy_score\n",
    "from sklearn.metrics import mean_squared_error\n",
    "alphas = 10**np.linspace(6,-2,50)*0.5\n",
    "lasso = Lasso(max_iter=10000, normalize=True)\n",
    "coefs = []\n",
    "\n",
    "for a in alphas:\n",
    "    lasso.set_params(alpha=a)\n",
    "    lasso.fit(X_train, y_train)\n",
    "    coefs.append(lasso.coef_)\n",
    "    \n",
    "np.shape(coefs)\n",
    "ax = plt.gca()\n",
    "ax.plot(alphas, coefs)\n",
    "ax.set_xscale('log')\n",
    "plt.axis('tight')\n",
    "plt.xlabel('alpha')\n",
    "plt.ylabel('weights')"
   ]
  },
  {
   "cell_type": "code",
   "execution_count": 6,
   "metadata": {},
   "outputs": [
    {
     "name": "stdout",
     "output_type": "stream",
     "text": [
      "Alpha= 116.067423929\n",
      "0.588169439524\n",
      "0.514614729341\n",
      "mse =  53065306778.1\n",
      "number of features used:  8\n",
      "best model coefficients:\n"
     ]
    },
    {
     "data": {
      "text/plain": [
       "bedrooms        -27818.316592\n",
       "bathrooms        16470.698197\n",
       "sqft_living        249.851382\n",
       "sqft_lot            -0.459341\n",
       "floors           78757.612990\n",
       "condition        34822.877934\n",
       "sqft_above           2.385160\n",
       "sqft_basement        0.000000\n",
       "yr_built         -2814.926495\n",
       "yr                   0.000000\n",
       "dtype: float64"
      ]
     },
     "execution_count": 6,
     "metadata": {},
     "output_type": "execute_result"
    }
   ],
   "source": [
    "lassocv = LassoCV(alphas=None, cv=10, normalize=True)\n",
    "lassocv.fit(X_train, y_train)\n",
    "lasso.set_params(alpha=lassocv.alpha_)\n",
    "print(\"Alpha=\", lassocv.alpha_)\n",
    "trainscore=lassocv.score(X_train,y_train)\n",
    "print(trainscore)\n",
    "testscore=lassocv.score(X_test,y_test)\n",
    "print(testscore)\n",
    "print(\"mse = \",mean_squared_error(y_test, lasso.predict(X_test)))\n",
    "coeff_used = np.sum(lassocv.coef_!=0)\n",
    "print (\"number of features used: \", coeff_used)\n",
    "print(\"best model coefficients:\")\n",
    "pd.Series(lassocv.coef_, index=X.columns)"
   ]
  },
  {
   "cell_type": "code",
   "execution_count": 7,
   "metadata": {},
   "outputs": [
    {
     "name": "stdout",
     "output_type": "stream",
     "text": [
      "0.589570974226\n",
      "0.517493243437\n",
      "mse =  53065220759.0\n",
      "number of features used:  10\n",
      "best model coefficients:\n"
     ]
    },
    {
     "data": {
      "text/plain": [
       "bedrooms        -3.998322e+04\n",
       "bathrooms        2.581437e+04\n",
       "sqft_living      2.668283e+02\n",
       "sqft_lot        -5.479500e-01\n",
       "floors           8.450499e+04\n",
       "condition        4.007884e+04\n",
       "sqft_above      -6.687479e+00\n",
       "sqft_basement   -1.287340e+01\n",
       "yr_built        -3.062808e+03\n",
       "yr               3.994332e-11\n",
       "dtype: float64"
      ]
     },
     "execution_count": 7,
     "metadata": {},
     "output_type": "execute_result"
    }
   ],
   "source": [
    "lasso = Lasso()\n",
    "lasso.fit(X_train, y_train)\n",
    "\n",
    "trainscore=lasso.score(X_train,y_train)\n",
    "print(trainscore)\n",
    "testscore=lasso.score(X_test,y_test)\n",
    "print(testscore)\n",
    "print(\"mse = \",mean_squared_error(y_test, lasso.predict(X_test)))\n",
    "coeff_used = np.sum(lasso.coef_!=0)\n",
    "print (\"number of features used: \", coeff_used)\n",
    "print(\"best model coefficients:\")\n",
    "pd.Series(lasso.coef_, index=X.columns)"
   ]
  },
  {
   "cell_type": "code",
   "execution_count": 8,
   "metadata": {},
   "outputs": [
    {
     "data": {
      "image/png": "[encoded data removed]",
      "text/plain": [
       "<matplotlib.figure.Figure at 0x29bd6e9d438>"
      ]
     },
     "metadata": {},
     "output_type": "display_data"
    }
   ],
   "source": [
    "plt.figure(figsize = (7,7))\n",
    "plt.plot(lasso.coef_,'s',label = \"Lasso alpha=1\")\n",
    "plt.plot(lassocv.coef_,'^',label = \"Lassocv alpha=1.45\")\n",
    "plt.xlabel('Coefficient index')\n",
    "plt.ylabel('Coefficient magnitude')\n",
    "plt.legend(ncol=2,loc=(0,1.05))\n",
    "plt.show()"
   ]
  },
  {
   "cell_type": "code",
   "execution_count": 9,
   "metadata": {},
   "outputs": [
    {
     "data": {
      "text/plain": [
       "Text(0,0.5,'weights')"
      ]
     },
     "execution_count": 9,
     "metadata": {},
     "output_type": "execute_result"
    },
    {
     "data": {
      "image/png": "[encoded data removed]",
      "text/plain": [
       "<matplotlib.figure.Figure at 0x29bd6e6e550>"
      ]
     },
     "metadata": {},
     "output_type": "display_data"
    }
   ],
   "source": [
    "#Ridge\n",
    "alphas = 10**np.linspace(6,-2,50)*0.5\n",
    "ridge = Ridge(max_iter=10000, normalize=True)\n",
    "coefs = []\n",
    "\n",
    "for a in alphas:\n",
    "    ridge.set_params(alpha=a)\n",
    "    ridge.fit(X_train, y_train)\n",
    "    coefs.append(ridge.coef_)\n",
    "    \n",
    "np.shape(coefs)\n",
    "ax = plt.gca()\n",
    "ax.plot(alphas, coefs)\n",
    "ax.set_xscale('log')\n",
    "plt.axis('tight')\n",
    "plt.xlabel('alpha')\n",
    "plt.ylabel('weights')"
   ]
  },
  {
   "cell_type": "code",
   "execution_count": 10,
   "metadata": {},
   "outputs": [
    {
     "name": "stdout",
     "output_type": "stream",
     "text": [
      "Alpha= 0.0694747747187\n",
      "0.587501540535\n",
      "0.510325445792\n",
      "mse =  53115631799.2\n",
      "number of features used:  10\n",
      "best model coefficients:\n"
     ]
    },
    {
     "data": {
      "text/plain": [
       "bedrooms        -27729.662530\n",
       "bathrooms        33307.081374\n",
       "sqft_living        116.762049\n",
       "sqft_lot            -0.466661\n",
       "floors           77496.641193\n",
       "condition        38393.944272\n",
       "sqft_above         121.339983\n",
       "sqft_basement      117.186519\n",
       "yr_built         -1434.459670\n",
       "yr                1434.459670\n",
       "dtype: float64"
      ]
     },
     "execution_count": 10,
     "metadata": {},
     "output_type": "execute_result"
    }
   ],
   "source": [
    "ridgecv = RidgeCV(alphas=alphas, cv=10, normalize=True)\n",
    "ridgecv.fit(X_train, y_train)\n",
    "ridge.set_params(alpha=ridgecv.alpha_)\n",
    "print(\"Alpha=\", ridgecv.alpha_)\n",
    "trainscore=ridgecv.score(X_train,y_train)\n",
    "print(trainscore)\n",
    "testscore=ridgecv.score(X_test,y_test)\n",
    "print(testscore)\n",
    "print(\"mse = \",mean_squared_error(y_test, ridge.predict(X_test)))\n",
    "coeff_used = np.sum(ridgecv.coef_!=0)\n",
    "print (\"number of features used: \", coeff_used)\n",
    "print(\"best model coefficients:\")\n",
    "pd.Series(ridgecv.coef_, index=X.columns)"
   ]
  },
  {
   "cell_type": "code",
   "execution_count": 11,
   "metadata": {},
   "outputs": [
    {
     "name": "stdout",
     "output_type": "stream",
     "text": [
      "0.589570142497\n",
      "0.517575264203\n",
      "mse =  53056200263.5\n",
      "number of features used:  10\n",
      "best model coefficients:\n"
     ]
    },
    {
     "data": {
      "text/plain": [
       "bedrooms        -39864.243181\n",
       "bathrooms        25778.518619\n",
       "sqft_living        171.350013\n",
       "sqft_lot            -0.548133\n",
       "floors           83915.012894\n",
       "condition        39873.383903\n",
       "sqft_above          88.899955\n",
       "sqft_basement       82.450015\n",
       "yr_built         -1530.463532\n",
       "yr                1530.463532\n",
       "dtype: float64"
      ]
     },
     "execution_count": 11,
     "metadata": {},
     "output_type": "execute_result"
    }
   ],
   "source": [
    "ridge = Ridge()\n",
    "ridge.fit(X_train, y_train)\n",
    "\n",
    "trainscore=ridge.score(X_train,y_train)\n",
    "print(trainscore)\n",
    "testscore=ridge.score(X_test,y_test)\n",
    "print(testscore)\n",
    "print(\"mse = \",mean_squared_error(y_test, ridge.predict(X_test)))\n",
    "coeff_used = np.sum(ridge.coef_!=0)\n",
    "print (\"number of features used: \", coeff_used)\n",
    "print(\"best model coefficients:\")\n",
    "pd.Series(ridge.coef_, index=X.columns)\n"
   ]
  },
  {
   "cell_type": "code",
   "execution_count": 12,
   "metadata": {},
   "outputs": [
    {
     "data": {
      "image/png": "[encoded data removed]",
      "text/plain": [
       "<matplotlib.figure.Figure at 0x29bda23d048>"
      ]
     },
     "metadata": {},
     "output_type": "display_data"
    }
   ],
   "source": [
    "plt.figure(figsize = (7,7))\n",
    "plt.plot(ridge.coef_,'s',label = \"ridge alpha=1\")\n",
    "plt.plot(ridgecv.coef_,'^',label = \"ridgecv alpha=2.98\")\n",
    "plt.xlabel('Coefficient index')\n",
    "plt.ylabel('Coefficient magnitude')\n",
    "plt.legend(ncol=2,loc=(0,1.05))\n",
    "plt.show()"
   ]
  },
  {
   "cell_type": "code",
   "execution_count": 13,
   "metadata": {},
   "outputs": [
    {
     "name": "stdout",
     "output_type": "stream",
     "text": [
      "Accuracy of training data : 57.8\n",
      "Accuracy of testing data : 51.47\n"
     ]
    },
    {
     "data": {
      "text/plain": [
       "bedrooms        -18086.914605\n",
       "bathrooms        10436.240667\n",
       "sqft_living        261.236198\n",
       "sqft_lot            -0.558045\n",
       "floors           23686.158887\n",
       "condition        13701.072647\n",
       "sqft_above          10.730636\n",
       "sqft_basement      -21.769790\n",
       "yr_built         -1870.418131\n",
       "yr                 938.895458\n",
       "dtype: float64"
      ]
     },
     "execution_count": 13,
     "metadata": {},
     "output_type": "execute_result"
    }
   ],
   "source": [
    "from sklearn.linear_model import ElasticNet\n",
    "\n",
    "els_reg = ElasticNet(alpha=1, l1_ratio=0.5, normalize=False)\n",
    "els_reg.fit(X_train,y_train)\n",
    "print('Accuracy of training data :',np.round(els_reg.score(X_train,y_train)*100,2))\n",
    "print('Accuracy of testing data :',np.round(els_reg.score(X_test,y_test)*100,2))\n",
    "pd.Series(els_reg.coef_, index=X.columns)"
   ]
  },
  {
   "cell_type": "code",
   "execution_count": 14,
   "metadata": {},
   "outputs": [
    {
     "name": "stdout",
     "output_type": "stream",
     "text": [
      "mean square error for ElasticNet for Test Data:\n"
     ]
    },
    {
     "data": {
      "text/plain": [
       "53371599312.07"
      ]
     },
     "execution_count": 14,
     "metadata": {},
     "output_type": "execute_result"
    }
   ],
   "source": [
    "predict_els = els_reg.predict(X_test)\n",
    "from sklearn import metrics\n",
    "print('mean square error for ElasticNet for Test Data:')\n",
    "np.round(metrics.mean_squared_error(y_test,predict_els),2)"
   ]
  },
  {
   "cell_type": "code",
   "execution_count": 15,
   "metadata": {},
   "outputs": [
    {
     "name": "stdout",
     "output_type": "stream",
     "text": [
      "0.005\n",
      "0.5\n",
      "Accuracy of training data : 44.26\n",
      "Accuracy of testing data : 36.87\n"
     ]
    },
    {
     "data": {
      "text/plain": [
       "bedrooms         18585.407737\n",
       "bathrooms        35389.087329\n",
       "sqft_living         51.573750\n",
       "sqft_lot            -0.018739\n",
       "floors           31601.598996\n",
       "condition        17875.704264\n",
       "sqft_above          51.580593\n",
       "sqft_basement       58.262144\n",
       "yr_built          -466.338310\n",
       "yr                 466.338301\n",
       "dtype: float64"
      ]
     },
     "execution_count": 15,
     "metadata": {},
     "output_type": "execute_result"
    }
   ],
   "source": [
    "from sklearn.linear_model import ElasticNetCV\n",
    "els_regcv = ElasticNetCV(alphas=alphas, cv=10, normalize=True)\n",
    "els_regcv.fit(X_train,y_train)\n",
    "print(els_regcv.alpha_)\n",
    "print(els_regcv.l1_ratio_)\n",
    "print('Accuracy of training data :',np.round(els_regcv.score(X_train,y_train)*100,2))\n",
    "print('Accuracy of testing data :',np.round(els_regcv.score(X_test,y_test)*100,2))\n",
    "pd.Series(els_regcv.coef_, index=X.columns)"
   ]
  },
  {
   "cell_type": "code",
   "execution_count": 16,
   "metadata": {},
   "outputs": [
    {
     "name": "stdout",
     "output_type": "stream",
     "text": [
      "mean square error for ElasticNetCV for Test Data:\n"
     ]
    },
    {
     "data": {
      "text/plain": [
       "69430428766.919998"
      ]
     },
     "execution_count": 16,
     "metadata": {},
     "output_type": "execute_result"
    }
   ],
   "source": [
    "predict_elscv = els_regcv.predict(X_test)\n",
    "print('mean square error for ElasticNetCV for Test Data:')\n",
    "np.round(metrics.mean_squared_error(y_test,predict_elscv),2)"
   ]
  },
  {
   "cell_type": "code",
   "execution_count": 17,
   "metadata": {},
   "outputs": [
    {
     "data": {
      "image/png": "[encoded data removed]",
      "text/plain": [
       "<matplotlib.figure.Figure at 0x29bda39b9b0>"
      ]
     },
     "metadata": {},
     "output_type": "display_data"
    }
   ],
   "source": [
    "plt.figure(figsize = (7,7))\n",
    "plt.plot(els_reg.coef_,'s',label = \"Elastic Net alpha=1, ratio=0.5\")\n",
    "plt.plot(els_regcv.coef_,'^',label = \"Elastic NetCV alpha=0.015, ratio=0.5\")\n",
    "plt.xlabel('Coefficient index')\n",
    "plt.ylabel('Coefficient magnitude')\n",
    "plt.legend(ncol=2,loc=(0,1.05))\n",
    "plt.show()"
   ]
  },
  {
   "cell_type": "code",
   "execution_count": 18,
   "metadata": {
    "collapsed": true
   },
   "outputs": [],
   "source": [
    "### PCA"
   ]
  },
  {
   "cell_type": "code",
   "execution_count": 19,
   "metadata": {
    "collapsed": true
   },
   "outputs": [],
   "source": [
    "from sklearn.preprocessing import scale\n",
    "from sklearn.decomposition import PCA\n",
    "from sklearn.linear_model import LinearRegression\n",
    "from sklearn.cross_decomposition import PLSRegression, PLSSVD\n",
    "from sklearn.metrics import mean_squared_error"
   ]
  },
  {
   "cell_type": "code",
   "execution_count": null,
   "metadata": {
    "collapsed": true
   },
   "outputs": [],
   "source": []
  },
  {
   "cell_type": "code",
   "execution_count": 20,
   "metadata": {},
   "outputs": [
    {
     "data": {
      "text/html": [
       "<div>\n",
       "<style>\n",
       "    .dataframe thead tr:only-child th {\n",
       "        text-align: right;\n",
       "    }\n",
       "\n",
       "    .dataframe thead th {\n",
       "        text-align: left;\n",
       "    }\n",
       "\n",
       "    .dataframe tbody tr th {\n",
       "        vertical-align: top;\n",
       "    }\n",
       "</style>\n",
       "<table border=\"1\" class=\"dataframe\">\n",
       "  <thead>\n",
       "    <tr style=\"text-align: right;\">\n",
       "      <th></th>\n",
       "      <th>0</th>\n",
       "      <th>1</th>\n",
       "      <th>2</th>\n",
       "      <th>3</th>\n",
       "      <th>4</th>\n",
       "      <th>5</th>\n",
       "    </tr>\n",
       "  </thead>\n",
       "  <tbody>\n",
       "    <tr>\n",
       "      <th>0</th>\n",
       "      <td>0.222647</td>\n",
       "      <td>0.436636</td>\n",
       "      <td>-0.208060</td>\n",
       "      <td>0.099242</td>\n",
       "      <td>0.055287</td>\n",
       "      <td>0.784430</td>\n",
       "    </tr>\n",
       "    <tr>\n",
       "      <th>1</th>\n",
       "      <td>0.412036</td>\n",
       "      <td>0.201619</td>\n",
       "      <td>-0.171876</td>\n",
       "      <td>-0.094407</td>\n",
       "      <td>-0.057435</td>\n",
       "      <td>-0.274687</td>\n",
       "    </tr>\n",
       "    <tr>\n",
       "      <th>2</th>\n",
       "      <td>0.398616</td>\n",
       "      <td>0.348866</td>\n",
       "      <td>0.058658</td>\n",
       "      <td>0.134214</td>\n",
       "      <td>0.074278</td>\n",
       "      <td>-0.209765</td>\n",
       "    </tr>\n",
       "    <tr>\n",
       "      <th>3</th>\n",
       "      <td>0.114560</td>\n",
       "      <td>0.105702</td>\n",
       "      <td>0.912043</td>\n",
       "      <td>0.007748</td>\n",
       "      <td>-0.082909</td>\n",
       "      <td>0.019791</td>\n",
       "    </tr>\n",
       "    <tr>\n",
       "      <th>4</th>\n",
       "      <td>0.305836</td>\n",
       "      <td>-0.277877</td>\n",
       "      <td>-0.257149</td>\n",
       "      <td>0.380584</td>\n",
       "      <td>-0.149820</td>\n",
       "      <td>-0.292832</td>\n",
       "    </tr>\n",
       "  </tbody>\n",
       "</table>\n",
       "</div>"
      ],
      "text/plain": [
       "          0         1         2         3         4         5\n",
       "0  0.222647  0.436636 -0.208060  0.099242  0.055287  0.784430\n",
       "1  0.412036  0.201619 -0.171876 -0.094407 -0.057435 -0.274687\n",
       "2  0.398616  0.348866  0.058658  0.134214  0.074278 -0.209765\n",
       "3  0.114560  0.105702  0.912043  0.007748 -0.082909  0.019791\n",
       "4  0.305836 -0.277877 -0.257149  0.380584 -0.149820 -0.292832"
      ]
     },
     "execution_count": 20,
     "metadata": {},
     "output_type": "execute_result"
    }
   ],
   "source": [
    "pca = PCA()\n",
    "X_train_reduced = pca.fit_transform(scale(X_train))\n",
    "X_test_reduced = pca.fit_transform(scale(X_test))\n",
    "pd.DataFrame(pca.components_.T).loc[:4,:5]"
   ]
  },
  {
   "cell_type": "code",
   "execution_count": 21,
   "metadata": {},
   "outputs": [
    {
     "data": {
      "text/plain": [
       "(-1, 19.949999999999999)"
      ]
     },
     "execution_count": 21,
     "metadata": {},
     "output_type": "execute_result"
    },
    {
     "data": {
      "image/png": "[encoded data removed]",
      "text/plain": [
       "<matplotlib.figure.Figure at 0x29bdb43bfd0>"
      ]
     },
     "metadata": {},
     "output_type": "display_data"
    }
   ],
   "source": [
    "from sklearn import model_selection\n",
    "# 10-fold CV, with shuffle\n",
    "n = len(X_train_reduced)\n",
    "kf_10 = model_selection.KFold(n_splits=10, shuffle=True, random_state=1)\n",
    "\n",
    "regr = LinearRegression()\n",
    "mse = []\n",
    "\n",
    "# Calculate MSE with only the intercept (no principal components in regression)\n",
    "score = -1*model_selection.cross_val_score(regr, np.ones((n,1)), y_train.ravel(), cv=kf_10, scoring='neg_mean_squared_error').mean()    \n",
    "mse.append(score)\n",
    "\n",
    "# Calculate MSE using CV for the 19 principle components, adding one component at the time.\n",
    "for i in np.arange(1, 20):\n",
    "    score = -1*model_selection.cross_val_score(regr, X_train_reduced[:,:i], y_train.ravel(), cv=kf_10, scoring='neg_mean_squared_error').mean()\n",
    "    mse.append(score)\n",
    "    \n",
    "# Plot results    \n",
    "plt.plot(mse, '-v')\n",
    "plt.xlabel('Number of principal components in regression')\n",
    "plt.ylabel('MSE')\n",
    "plt.title('House Price')\n",
    "plt.xlim(xmin=-1)"
   ]
  },
  {
   "cell_type": "code",
   "execution_count": 22,
   "metadata": {},
   "outputs": [
    {
     "data": {
      "text/plain": [
       "(-1, 19.949999999999999)"
      ]
     },
     "execution_count": 22,
     "metadata": {},
     "output_type": "execute_result"
    },
    {
     "data": {
      "image/png": "[encoded data removed]",
      "text/plain": [
       "<matplotlib.figure.Figure at 0x29bd6fcdef0>"
      ]
     },
     "metadata": {},
     "output_type": "display_data"
    }
   ],
   "source": [
    "from sklearn import model_selection\n",
    "# 10-fold CV, with shuffle\n",
    "n = len(X_train_reduced)\n",
    "kf_10 = model_selection.KFold( n_splits=10, shuffle=True, random_state=1)\n",
    "\n",
    "clf = LinearRegression()\n",
    "accuracy = []\n",
    "\n",
    "# Calculate score with only the intercept (no principal components in regression)\n",
    "clf.fit(np.ones((n,1)), y_train.ravel())\n",
    "acc_score = clf.score(np.ones((n,1)), y_train.ravel())\n",
    "accuracy.append(acc_score)\n",
    "\n",
    "# Calculate score using CV for the 19 principle components, adding one component at the time.\n",
    "for i in np.arange(1, 20):\n",
    "    clf.fit(X_train_reduced[:,:i], y_train.ravel())\n",
    "    acc_score = clf.score(X_train_reduced[:,:i], y_train.ravel())\n",
    "    accuracy.append(acc_score)\n",
    "    \n",
    "# Plot results    \n",
    "plt.plot(accuracy, '-v')\n",
    "plt.xlabel('Number of principal components in regression')\n",
    "plt.ylabel('score')\n",
    "plt.title('House Price')\n",
    "plt.xlim(xmin=-1)"
   ]
  },
  {
   "cell_type": "code",
   "execution_count": 23,
   "metadata": {},
   "outputs": [
    {
     "name": "stdout",
     "output_type": "stream",
     "text": [
      "56051950330.4\n",
      "0.461108423114\n"
     ]
    }
   ],
   "source": [
    "clf.fit(X_train_reduced[:,:2], y_train.ravel())\n",
    "print(-1*model_selection.cross_val_score(regr, X_train_reduced[:,:2], y_train.ravel(), cv=kf_10, scoring='neg_mean_squared_error').mean())\n",
    "print(clf.score(X_train_reduced[:,:2], y_train.ravel()))"
   ]
  },
  {
   "cell_type": "code",
   "execution_count": 24,
   "metadata": {},
   "outputs": [
    {
     "name": "stdout",
     "output_type": "stream",
     "text": [
      "44685702998.9\n",
      "0.589570974376\n"
     ]
    }
   ],
   "source": [
    "clf.fit(X_train_reduced[:,:16], y_train.ravel())\n",
    "print(-1*model_selection.cross_val_score(regr, X_train_reduced[:,:16], y_train.ravel(), cv=kf_10, scoring='neg_mean_squared_error').mean())\n",
    "print(clf.score(X_train_reduced[:,:16], y_train.ravel()))"
   ]
  },
  {
   "cell_type": "code",
   "execution_count": 25,
   "metadata": {},
   "outputs": [
    {
     "name": "stdout",
     "output_type": "stream",
     "text": [
      "54834294479.5\n",
      "0.534426610843\n"
     ]
    }
   ],
   "source": [
    "clf.fit(X_test_reduced[:,:16], y_test.ravel())\n",
    "print(-1*model_selection.cross_val_score(regr, X_test_reduced[:,:16], y_test.ravel(), cv=kf_10, scoring='neg_mean_squared_error').mean())\n",
    "print(clf.score(X_test_reduced[:,:16], y_test.ravel()))"
   ]
  },
  {
   "cell_type": "code",
   "execution_count": 26,
   "metadata": {
    "collapsed": true
   },
   "outputs": [],
   "source": [
    "### We see that the smallest cross-validation error occurs when M=16 components are used. This is barely fewer than M=19 , which amounts to simply performing least squares, because when all of the components are used in PCR no dimension reduction occurs. However, from the plot we also see that the cross-validation error is roughly the same when only one component is included in the model. This suggests that a model that uses just a small number of components might suffice."
   ]
  },
  {
   "cell_type": "code",
   "execution_count": 27,
   "metadata": {
    "collapsed": true
   },
   "outputs": [],
   "source": [
    "### SVM"
   ]
  },
  {
   "cell_type": "code",
   "execution_count": 28,
   "metadata": {
    "collapsed": true
   },
   "outputs": [],
   "source": [
    "from sklearn.svm import SVR"
   ]
  },
  {
   "cell_type": "code",
   "execution_count": null,
   "metadata": {
    "collapsed": true
   },
   "outputs": [],
   "source": [
    "regressor=SVR(kernel='linear',degree=1)\n",
    "\n",
    "regressor.fit(X_train,y_train)\n",
    "print(regressor.score(X_train,y_train))\n",
    "pred=regressor.predict(X_test)\n",
    "print(regressor.score(X_test,y_test))"
   ]
  },
  {
   "cell_type": "code",
   "execution_count": null,
   "metadata": {
    "collapsed": true
   },
   "outputs": [],
   "source": [
    "regressor=SVR(kernel='poly',degree=1)\n",
    "\n",
    "regressor.fit(X_train,y_train)\n",
    "print(regressor.score(X_train,y_train))\n",
    "pred=regressor.predict(X_test)\n",
    "print(regressor.score(X_test,y_test))"
   ]
  },
  {
   "cell_type": "code",
   "execution_count": null,
   "metadata": {
    "collapsed": true
   },
   "outputs": [],
   "source": [
    "regressor=SVR(kernel='rbf',degree=1)\n",
    "\n",
    "regressor.fit(X_train,y_train)\n",
    "print(regressor.score(X_train,y_train))\n",
    "pred=regressor.predict(X_test)\n",
    "print(regressor.score(X_test,y_test))"
   ]
  },
  {
   "cell_type": "code",
   "execution_count": null,
   "metadata": {
    "collapsed": true
   },
   "outputs": [],
   "source": [
    "regressor=SVR(kernel='sigmoid',degree=1)\n",
    "\n",
    "regressor.fit(X_train,y_train)\n",
    "print(regressor.score(X_train,y_train))\n",
    "pred=regressor.predict(X_test)\n",
    "print(regressor.score(X_test,y_test))"
   ]
  },
  {
   "cell_type": "code",
   "execution_count": null,
   "metadata": {
    "collapsed": true
   },
   "outputs": [],
   "source": []
  },
  {
   "cell_type": "code",
   "execution_count": null,
   "metadata": {
    "collapsed": true
   },
   "outputs": [],
   "source": []
  },
  {
   "cell_type": "code",
   "execution_count": null,
   "metadata": {
    "collapsed": true
   },
   "outputs": [],
   "source": []
  }
 ],
 "metadata": {
  "kernelspec": {
   "display_name": "Python 3",
   "language": "python",
   "name": "python3"
  },
  "language_info": {
   "codemirror_mode": {
    "name": "ipython",
    "version": 3
   },
   "file_extension": ".py",
   "mimetype": "text/x-python",
   "name": "python",
   "nbconvert_exporter": "python",
   "pygments_lexer": "ipython3",
   "version": "3.6.3"
  }
 },
 "nbformat": 4,
 "nbformat_minor": 2
}
